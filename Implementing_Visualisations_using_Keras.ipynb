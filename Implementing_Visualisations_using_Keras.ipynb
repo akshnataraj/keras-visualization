{
  "nbformat": 4,
  "nbformat_minor": 0,
  "metadata": {
    "colab": {
      "name": "Implementing Visualisations using Keras.ipynb",
      "provenance": [],
      "authorship_tag": "ABX9TyPM6hmcV/a/uONN0F1R2Dsf",
      "include_colab_link": true
    },
    "kernelspec": {
      "name": "python3",
      "display_name": "Python 3"
    }
  },
  "cells": [
    {
      "cell_type": "markdown",
      "metadata": {
        "id": "view-in-github",
        "colab_type": "text"
      },
      "source": [
        "<a href=\"https://colab.research.google.com/github/akshnataraj/keras-visualization/blob/master/Implementing_Visualisations_using_Keras.ipynb\" target=\"_parent\"><img src=\"https://colab.research.google.com/assets/colab-badge.svg\" alt=\"Open In Colab\"/></a>"
      ]
    },
    {
      "cell_type": "code",
      "metadata": {
        "id": "5aTU-Mk1y0I1",
        "colab_type": "code",
        "colab": {
          "base_uri": "https://localhost:8080/",
          "height": 52
        },
        "outputId": "13a5ea21-fd5b-40fb-996e-464d79e96433"
      },
      "source": [
        "from keras import applications\n",
        "model = applications.VGG16(include_top=False, weights='imagenet')"
      ],
      "execution_count": 2,
      "outputs": [
        {
          "output_type": "stream",
          "text": [
            "Downloading data from https://github.com/fchollet/deep-learning-models/releases/download/v0.1/vgg16_weights_tf_dim_ordering_tf_kernels_notop.h5\n",
            "58892288/58889256 [==============================] - 1s 0us/step\n"
          ],
          "name": "stdout"
        }
      ]
    },
    {
      "cell_type": "code",
      "metadata": {
        "id": "N4WU3RNtzA1S",
        "colab_type": "code",
        "colab": {}
      },
      "source": [
        "layer_dict = dict([(layer.name, layer) for layer in model.layers])"
      ],
      "execution_count": 3,
      "outputs": []
    },
    {
      "cell_type": "code",
      "metadata": {
        "id": "D5QsufFUzcmQ",
        "colab_type": "code",
        "colab": {
          "base_uri": "https://localhost:8080/",
          "height": 347
        },
        "outputId": "6aa88bee-4622-45e7-f208-8ad5fd8b076f"
      },
      "source": [
        "layer_dict"
      ],
      "execution_count": 4,
      "outputs": [
        {
          "output_type": "execute_result",
          "data": {
            "text/plain": [
              "{'block1_conv1': <keras.layers.convolutional.Conv2D at 0x7f99713c5dd8>,\n",
              " 'block1_conv2': <keras.layers.convolutional.Conv2D at 0x7f99b371a048>,\n",
              " 'block1_pool': <keras.layers.pooling.MaxPooling2D at 0x7f99b36fd4e0>,\n",
              " 'block2_conv1': <keras.layers.convolutional.Conv2D at 0x7f99b375efd0>,\n",
              " 'block2_conv2': <keras.layers.convolutional.Conv2D at 0x7f99712bbcf8>,\n",
              " 'block2_pool': <keras.layers.pooling.MaxPooling2D at 0x7f99712c6898>,\n",
              " 'block3_conv1': <keras.layers.convolutional.Conv2D at 0x7f99712c66d8>,\n",
              " 'block3_conv2': <keras.layers.convolutional.Conv2D at 0x7f99712cc400>,\n",
              " 'block3_conv3': <keras.layers.convolutional.Conv2D at 0x7f99712ccdd8>,\n",
              " 'block3_pool': <keras.layers.pooling.MaxPooling2D at 0x7f99712d2a90>,\n",
              " 'block4_conv1': <keras.layers.convolutional.Conv2D at 0x7f99712d2898>,\n",
              " 'block4_conv2': <keras.layers.convolutional.Conv2D at 0x7f996adb15f8>,\n",
              " 'block4_conv3': <keras.layers.convolutional.Conv2D at 0x7f996adb1ef0>,\n",
              " 'block4_pool': <keras.layers.pooling.MaxPooling2D at 0x7f996adbac88>,\n",
              " 'block5_conv1': <keras.layers.convolutional.Conv2D at 0x7f996adbaa90>,\n",
              " 'block5_conv2': <keras.layers.convolutional.Conv2D at 0x7f996adc1550>,\n",
              " 'block5_conv3': <keras.layers.convolutional.Conv2D at 0x7f996adc6400>,\n",
              " 'block5_pool': <keras.layers.pooling.MaxPooling2D at 0x7f996adc6e80>,\n",
              " 'input_1': <keras.engine.input_layer.InputLayer at 0x7f99713c5908>}"
            ]
          },
          "metadata": {
            "tags": []
          },
          "execution_count": 4
        }
      ]
    },
    {
      "cell_type": "code",
      "metadata": {
        "id": "BnVge_Kszdo7",
        "colab_type": "code",
        "colab": {
          "base_uri": "https://localhost:8080/",
          "height": 35
        },
        "outputId": "a84f7b8e-62bb-489e-8671-1cb7c05e6a04"
      },
      "source": [
        "from keras import backend as K\n",
        "layer_name = 'block1_conv1'\n",
        "filter_index = 1\n",
        "\n",
        "layer_output = layer_dict[layer_name].output\n",
        "print(layer_output)\n",
        "loss = K.mean(layer_output[:,:,:,filter_index])\n",
        "grads = K.gradients(loss, input_img)[0]"
      ],
      "execution_count": 13,
      "outputs": [
        {
          "output_type": "stream",
          "text": [
            "Tensor(\"block1_conv1/Relu:0\", shape=(None, None, None, 64), dtype=float32)\n"
          ],
          "name": "stdout"
        }
      ]
    },
    {
      "cell_type": "code",
      "metadata": {
        "id": "vv6dDbnozzEO",
        "colab_type": "code",
        "colab": {
          "base_uri": "https://localhost:8080/",
          "height": 35
        },
        "outputId": "f85ed974-320c-45e1-93b3-cc04f2a09659"
      },
      "source": [
        "K.print_tensor(layer_output[:,:,:,filter_index])"
      ],
      "execution_count": 14,
      "outputs": [
        {
          "output_type": "execute_result",
          "data": {
            "text/plain": [
              "<tf.Tensor 'Identity_1:0' shape=(None, None, None) dtype=float32>"
            ]
          },
          "metadata": {
            "tags": []
          },
          "execution_count": 14
        }
      ]
    },
    {
      "cell_type": "code",
      "metadata": {
        "id": "nMJFrT2E0Lqq",
        "colab_type": "code",
        "colab": {
          "base_uri": "https://localhost:8080/",
          "height": 166
        },
        "outputId": "ee442d4a-4c1a-42d4-864f-13a335e49714"
      },
      "source": [
        "grads = K.gradients(loss, input_img)[0]"
      ],
      "execution_count": 16,
      "outputs": [
        {
          "output_type": "error",
          "ename": "NameError",
          "evalue": "ignored",
          "traceback": [
            "\u001b[0;31m---------------------------------------------------------------------------\u001b[0m",
            "\u001b[0;31mNameError\u001b[0m                                 Traceback (most recent call last)",
            "\u001b[0;32m<ipython-input-16-d5ebf68b3b4b>\u001b[0m in \u001b[0;36m<module>\u001b[0;34m()\u001b[0m\n\u001b[0;32m----> 1\u001b[0;31m \u001b[0mgrads\u001b[0m \u001b[0;34m=\u001b[0m \u001b[0mK\u001b[0m\u001b[0;34m.\u001b[0m\u001b[0mgradients\u001b[0m\u001b[0;34m(\u001b[0m\u001b[0mloss\u001b[0m\u001b[0;34m,\u001b[0m \u001b[0minput_img\u001b[0m\u001b[0;34m)\u001b[0m\u001b[0;34m[\u001b[0m\u001b[0;36m0\u001b[0m\u001b[0;34m]\u001b[0m\u001b[0;34m\u001b[0m\u001b[0;34m\u001b[0m\u001b[0m\n\u001b[0m",
            "\u001b[0;31mNameError\u001b[0m: name 'input_img' is not defined"
          ]
        }
      ]
    },
    {
      "cell_type": "code",
      "metadata": {
        "id": "jL6KpVAs0l8v",
        "colab_type": "code",
        "colab": {}
      },
      "source": [
        ""
      ],
      "execution_count": null,
      "outputs": []
    }
  ]
}